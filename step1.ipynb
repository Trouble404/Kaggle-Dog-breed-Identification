{
 "cells": [
  {
   "cell_type": "markdown",
   "metadata": {},
   "source": [
    "# Dog Breed Identification from Kaggle\n",
    "# Author: jz1g17@soton.ac.uk"
   ]
  },
  {
   "cell_type": "markdown",
   "metadata": {},
   "source": [
    "# Briefy Introduction\n",
    "Who's a good dog? Who likes ear scratches? Well, it seems those fancy deep neural networks don't have all the answers. However, maybe they can answer that ubiquitous question we all ask when meeting a four-legged stranger: what kind of good pup is that?\n",
    "\n",
    "In this playground competition, you are provided a strictly canine subset of [ImageNet](https://www.kaggle.com/c/imagenet-object-detection-challenge) in order to practice fine-grained image categorization. How well you can tell your Norfolk Terriers from your Norwich Terriers? With 120 breeds of dogs and a limited number training images per class, you might find the problem more, err, ruff than you anticipated.\n",
    "![iamge](https://raw.githubusercontent.com/Trouble404/Kaggle-Dog-breed-Identification/master/readme_pic_add/border_collies.png)"
   ]
  },
  {
   "cell_type": "markdown",
   "metadata": {},
   "source": [
    "# Technical use\n",
    "**Gluon**\n",
    "\n",
    "Gluon is the high-level interface for [MXNet](https://mxnet.apache.org/). It is more intuitive and easier to use than the lower level interface. Gluon supports dynamic (define-by-run) graphs with JIT-compilation to achieve both flexibility and efficiency."
   ]
  },
  {
   "cell_type": "markdown",
   "metadata": {},
   "source": [
    "# Step 1: re-structure data for loading images by gluon\n",
    "![image](https://raw.githubusercontent.com/Trouble404/Kaggle-Dog-breed-Identification/master/readme_pic_add/loading.png)\n"
   ]
  },
  {
   "cell_type": "code",
   "execution_count": 1,
   "metadata": {
    "collapsed": false
   },
   "outputs": [],
   "source": [
    "import shutil # opreate file\n",
    "import os # opreate folder and files\n",
    "import pandas as pd"
   ]
  },
  {
   "cell_type": "markdown",
   "metadata": {},
   "source": [
    "** [shutil](https://www.jianshu.com/p/b4c87aa6fd24) 是一种高层次的文件操作工具\n",
    "类似于高级API，而且主要强大之处在于其对文件的复制与删除操作更是比较支持好。**\n",
    "\n",
    "**[os](http://blog.51cto.com/pmghong/1353340) 主要与操作系统打交道的**"
   ]
  },
  {
   "cell_type": "markdown",
   "metadata": {},
   "source": [
    "** Adjust each class in one folder with link of image**\n",
    "\n",
    "1.1 for tranning data -> need run in **admin**"
   ]
  },
  {
   "cell_type": "code",
   "execution_count": 5,
   "metadata": {
    "collapsed": false
   },
   "outputs": [
    {
     "name": "stdout",
     "output_type": "stream",
     "text": [
      "Wall time: 21.9 s\n"
     ]
    }
   ],
   "source": [
    "%%time\n",
    "df = pd.read_csv(\"labels.csv\") #df-> 10222 rows × 2 columns\n",
    "path = 'for_train'\n",
    "\n",
    "if os.path.exists(path): # for_train floder exists\n",
    "    #os.removedirs(path) # delete path file\n",
    "    shutil.rmtree(path) # delete path file\n",
    "    osmakedirs(path) # create for_train folder\n",
    "    \n",
    "for i, (idNo, breed) in df.iterrows():\n",
    "    \n",
    "    folderpath = path + '/' + breed\n",
    "    if not os.path.exists(folderpath):\n",
    "        os.makedirs(folderpath)\n",
    "    \n",
    "    sourceDir = 'train' + '/' + idNo + '.jpg' # copy address\n",
    "    targetDir = folderpath\n",
    "    shutil.copy(sourceDir,  targetDir) # create a soft link to oringal image in train floder to new structul folder"
   ]
  },
  {
   "cell_type": "markdown",
   "metadata": {
    "collapsed": true
   },
   "source": [
    "1.2 for testing data -> need run in **admin**"
   ]
  },
  {
   "cell_type": "code",
   "execution_count": 9,
   "metadata": {
    "collapsed": false
   },
   "outputs": [
    {
     "name": "stdout",
     "output_type": "stream",
     "text": [
      "Wall time: 22 s\n"
     ]
    }
   ],
   "source": [
    "%%time\n",
    "df = pd.read_csv(\"sample_submission.csv\") #df-> 10357 rows × 121 columns\n",
    "path = 'for_test'\n",
    "breed = '0' # unclassifcate dogs\n",
    "\n",
    "if os.path.exists(path): # for_train floder exists\n",
    "    #os.removedirs(path) # delete path file\n",
    "    shutil.rmtree(path) # delete path file\n",
    "    osmakedirs(path) # create for_train folder\n",
    "    \n",
    "for idNo in df['id']:\n",
    "    \n",
    "    folderpath = path + '/' + breed\n",
    "    if not os.path.exists(folderpath):\n",
    "        os.makedirs(folderpath)\n",
    "        \n",
    "    sourceDir = 'test' + '/' + idNo + '.jpg' # copy address\n",
    "    targetDir = folderpath\n",
    "    shutil.copy(sourceDir,  targetDir) # create a soft link to oringal image in train floder to new structul folder"
   ]
  },
  {
   "cell_type": "markdown",
   "metadata": {},
   "source": [
    "** Re-structured image of dogs**\n",
    "![image](https://raw.githubusercontent.com/Trouble404/Kaggle-Dog-breed-Identification/master/readme_pic_add/re-s1.PNG)\n",
    "![image](https://raw.githubusercontent.com/Trouble404/Kaggle-Dog-breed-Identification/master/readme_pic_add/re-s2.PNG)"
   ]
  }
 ],
 "metadata": {
  "anaconda-cloud": {},
  "kernelspec": {
   "display_name": "Python [conda env:python3]",
   "language": "python",
   "name": "conda-env-python3-py"
  },
  "language_info": {
   "codemirror_mode": {
    "name": "ipython",
    "version": 3
   },
   "file_extension": ".py",
   "mimetype": "text/x-python",
   "name": "python",
   "nbconvert_exporter": "python",
   "pygments_lexer": "ipython3",
   "version": "3.6.3"
  }
 },
 "nbformat": 4,
 "nbformat_minor": 1
}
